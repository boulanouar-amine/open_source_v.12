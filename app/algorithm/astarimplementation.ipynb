{
 "cells": [
  {
   "cell_type": "code",
   "execution_count": 4,
   "metadata": {
    "tags": []
   },
   "outputs": [],
   "source": [
    "\n",
    "import networkx as nx\n",
    "import osmnx as ox\n",
    "from heapq import heappush, heappop\n",
    "from geopy.distance import great_circle\n",
    "\n",
    "import requests\n",
    "import json\n",
    "import nest_asyncio\n",
    "import asyncio\n",
    "import aiohttp"
   ]
  },
  {
   "cell_type": "code",
   "execution_count": 5,
   "metadata": {
    "tags": []
   },
   "outputs": [],
   "source": [
    "\n",
    "weight = \"length\"\n",
    "\n",
    "G = ox.graph_from_place(\"Piedmont, CA, USA\", network_type=\"drive\")\n",
    "\n",
    "orig = list(G.nodes)[0]\n",
    "\n",
    "dest = list(G.nodes)[-1]\n"
   ]
  },
  {
   "cell_type": "code",
   "execution_count": null,
   "metadata": {},
   "outputs": [],
   "source": [
    "print(len(G.nodes))"
   ]
  },
  {
   "cell_type": "code",
   "execution_count": null,
   "metadata": {},
   "outputs": [],
   "source": [
    "\n",
    "async def fetch_traffic_data(session, url, node_id, traffic_data_dict):\n",
    "    async with session.get(url) as response:\n",
    "        if response.status == 200:\n",
    "            traffic_data = await response.json()\n",
    "            current_speed = traffic_data['flowSegmentData']['currentSpeed']\n",
    "            current_travel_time = traffic_data['flowSegmentData']['freeFlowSpeed']\n",
    "            free_flow_speed = traffic_data['flowSegmentData']['currentSpeed']\n",
    "            free_flow_travel_time = traffic_data['flowSegmentData']['freeFlowTravelTime']\n",
    "            roadClosure = traffic_data['flowSegmentData']['roadClosure']\n",
    "            traffic_data_dict[node_id] = {\n",
    "                'current_speed': current_speed,\n",
    "                'current_travel_time': current_travel_time,\n",
    "                'free_flow_speed': free_flow_speed,\n",
    "                'free_flow_travel_time': free_flow_travel_time,\n",
    "                'road_closure': roadClosure\n",
    "            }\n",
    "        else:\n",
    "            print(f\"Failed to fetch traffic data for node {node_id}\")\n",
    "\n",
    "\n",
    "async def get_traffic_data(G, api_key='BwENUoPMGyzQlUXqnDMN7mdZcoAtSdA7'):\n",
    "    traffic_data_dict = {}\n",
    "    async with aiohttp.ClientSession() as session:\n",
    "        tasks = []\n",
    "        for node_id, node_data in G.nodes(data=True):\n",
    "            lat, lon = node_data['y'], node_data['x']\n",
    "            url = f\"https://api.tomtom.com/traffic/services/4/flowSegmentData/absolute/10/json?point={\n",
    "                lat}%2C{lon}&key={api_key}\"\n",
    "            task = asyncio.ensure_future(fetch_traffic_data(\n",
    "                session, url, node_id, traffic_data_dict))\n",
    "            tasks.append(task)\n",
    "        await asyncio.gather(*tasks)\n",
    "    return traffic_data_dict\n",
    "\n",
    "# To run the async function in Jupyter, use:\n",
    "nest_asyncio.apply()\n",
    "\n",
    "# Assuming G is your graph object\n",
    "traffic_data = await get_traffic_data(G)\n",
    "traffic_data"
   ]
  },
  {
   "cell_type": "code",
   "execution_count": null,
   "metadata": {},
   "outputs": [],
   "source": [
    "from geopy.distance import great_circle\n",
    "from heapq import heappush, heappop\n",
    "\n",
    "\n",
    "def heuristic(node1, node2, G):\n",
    "    \"\"\"\n",
    "    Compute the heuristic, i.e., the straight-line distance between two nodes.\n",
    "    \"\"\"\n",
    "    lat1, lon1 = G.nodes[node1]['y'], G.nodes[node1]['x']\n",
    "    lat2, lon2 = G.nodes[node2]['y'], G.nodes[node2]['x']\n",
    "    return great_circle((lat1, lon1), (lat2, lon2)).meters\n",
    "\n",
    "\n",
    "def adjust_edge_weights_with_traffic(G, traffic_data):\n",
    "    \"\"\"\n",
    "    Adjust the edge weights in the graph based on traffic data, considering rush hours and road closures.\n",
    "    \"\"\"\n",
    "    print(\"Adjusting edge weights based on traffic data...\")\n",
    "    for u, v, data in G.edges(data=True):\n",
    "        u_data = traffic_data.get(u, {})\n",
    "        v_data = traffic_data.get(v, {})\n",
    "        if u_data.get('road_closure', False) or v_data.get('road_closure', False):\n",
    "            data['weight'] = float('inf')\n",
    "            continue\n",
    "\n",
    "        # Default to 1 to avoid division by zero\n",
    "        u_speed = u_data.get('current_speed', 1)\n",
    "        v_speed = v_data.get('current_speed', 1)\n",
    "        avg_speed = (u_speed + v_speed) / 2\n",
    "\n",
    "        rush_hour_factor = 1.5 if any([\n",
    "            u_data.get('current_travel_time', 0) > u_data.get(\n",
    "                'free_flow_travel_time', 0) * 1.2,\n",
    "            v_data.get('current_travel_time', 0) > v_data.get(\n",
    "                'free_flow_travel_time', 0) * 1.2\n",
    "        ]) else 1\n",
    "\n",
    "        original_weight = data.get('weight', 1)\n",
    "        adjusted_weight = ((original_weight / avg_speed)\n",
    "                           * 60) * rush_hour_factor\n",
    "        data['weight'] = adjusted_weight\n",
    "\n",
    "\n",
    "def a_star_search_with_traffic(G, start, goal, traffic_data, weight='length'):\n",
    "    \"\"\"\n",
    "    Perform A* search on a graph, considering traffic data.\n",
    "    \"\"\"\n",
    "    adjust_edge_weights_with_traffic(G, traffic_data)\n",
    "    open_set = []\n",
    "    heappush(open_set, (0, start))\n",
    "    came_from = {}\n",
    "    g_score = {node: float('inf') for node in G.nodes}\n",
    "    g_score[start] = 0\n",
    "    f_score = {node: float('inf') for node in G.nodes}\n",
    "    f_score[start] = heuristic(start, goal, G)\n",
    "\n",
    "    while open_set:\n",
    "        current = heappop(open_set)[1]\n",
    "\n",
    "        if current == goal:\n",
    "            path = []\n",
    "            while current in came_from:\n",
    "                path.append(current)\n",
    "                current = came_from[current]\n",
    "            path.append(start)\n",
    "            path.reverse()\n",
    "            return path\n",
    "\n",
    "        for neighbor in G.neighbors(current):\n",
    "            tentative_g_score = g_score[current] + \\\n",
    "                G[current][neighbor][0].get(weight, 1)\n",
    "\n",
    "            if tentative_g_score < g_score[neighbor]:\n",
    "                came_from[neighbor] = current\n",
    "                g_score[neighbor] = tentative_g_score\n",
    "                f_score[neighbor] = g_score[neighbor] + \\\n",
    "                    heuristic(neighbor, goal, G)\n",
    "\n",
    "                if neighbor not in [i[1] for i in open_set]:\n",
    "                    heappush(open_set, (f_score[neighbor], neighbor))\n",
    "\n",
    "    return None  # Path not found"
   ]
  },
  {
   "cell_type": "code",
   "execution_count": null,
   "metadata": {},
   "outputs": [],
   "source": [
    "route_djikstra = ox.shortest_path(G, orig, dest, weight=weight)"
   ]
  },
  {
   "cell_type": "code",
   "execution_count": null,
   "metadata": {},
   "outputs": [],
   "source": [
    "# Perform A* search\n",
    "route_astart = a_star_search_with_traffic(\n",
    "    G, orig, dest, weight=\"length\", traffic_data=traffic_data)\n"
   ]
  },
  {
   "cell_type": "code",
   "execution_count": null,
   "metadata": {},
   "outputs": [],
   "source": [
    "print(route_astart)"
   ]
  },
  {
   "cell_type": "code",
   "execution_count": null,
   "metadata": {},
   "outputs": [],
   "source": [
    "print(route_djikstra)"
   ]
  },
  {
   "cell_type": "markdown",
   "metadata": {},
   "source": [
    "## Explore a city's street network as an interactive web map"
   ]
  },
  {
   "cell_type": "code",
   "execution_count": null,
   "metadata": {
    "tags": []
   },
   "outputs": [],
   "source": [
    "# explore graph edges interactively, with a simple one-liner\n",
    "ox.graph_to_gdfs(G, nodes=False).explore()"
   ]
  },
  {
   "cell_type": "code",
   "execution_count": null,
   "metadata": {
    "tags": []
   },
   "outputs": [],
   "source": [
    "# plot both routes\n",
    "# explore a route interactively\n",
    "route_edges = ox.routing.route_to_gdf(G, route_astart, weight=weight)\n",
    "route_edges.explore(tiles=\"cartodbpositron\", style_kwds={\"weight\": 5})"
   ]
  }
 ],
 "metadata": {
  "anaconda-cloud": {},
  "kernelspec": {
   "display_name": "Python 3",
   "language": "python",
   "name": "python3"
  },
  "language_info": {
   "codemirror_mode": {
    "name": "ipython",
    "version": 3
   },
   "file_extension": ".py",
   "mimetype": "text/x-python",
   "name": "python",
   "nbconvert_exporter": "python",
   "pygments_lexer": "ipython3",
   "version": "3.12.3"
  }
 },
 "nbformat": 4,
 "nbformat_minor": 4
}
